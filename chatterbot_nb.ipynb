{
 "cells": [
  {
   "cell_type": "code",
   "execution_count": 20,
   "metadata": {},
   "outputs": [
    {
     "name": "stdout",
     "output_type": "stream",
     "text": [
      "OS:  /Users/dilip/Desktop/Repos/ML+DL+AI - Data/chatterbot\n"
     ]
    }
   ],
   "source": [
    "import os\n",
    "import sys\n",
    "print 'OS: ', os.getcwd()\n",
    "sys.path.append('/Library/Python/2.7/site-packages/') #where chatterbot module is installed (find by running: pip instll chatterbot)\n"
   ]
  },
  {
   "cell_type": "code",
   "execution_count": 21,
   "metadata": {},
   "outputs": [],
   "source": [
    "from chatterbot import ChatBot\n",
    "bot = ChatBot(\n",
    "    'Tbot',\n",
    "    storage_adapter='chatterbot.storage.SQLStorageAdapter',\n",
    "    #input_adapter='chatterbot.input.TerminalAdapter',\n",
    "    #output_adapter='chatterbot.output.TerminalAdapter',\n",
    "    logic_adapters=[\n",
    "        'chatterbot.logic.MathematicalEvaluation',\n",
    "        'chatterbot.logic.TimeLogicAdapter',\n",
    "        'chatterbot.logic.BestMatch'\n",
    "    ],\n",
    "    filters=[\n",
    "        'chatterbot.filters.RepetitiveResponseFilter'\n",
    "    ],\n",
    "    database='./database.sqlite3'\n",
    ")"
   ]
  },
  {
   "cell_type": "code",
   "execution_count": 22,
   "metadata": {},
   "outputs": [
    {
     "name": "stdout",
     "output_type": "stream",
     "text": [
      "List Trainer: [####################] 100%\n"
     ]
    }
   ],
   "source": [
    "from chatterbot.trainers import ListTrainer\n",
    "\n",
    "conversation = [\n",
    "    'How are you?',\n",
    "    'I am good.',\n",
    "    'That is good to hear.',\n",
    "    'Thank you',\n",
    "    'You are welcome.',\n",
    "]\n",
    "\n",
    "bot.set_trainer(ListTrainer)\n",
    "bot.train(conversation)"
   ]
  },
  {
   "cell_type": "code",
   "execution_count": null,
   "metadata": {},
   "outputs": [
    {
     "name": "stdout",
     "output_type": "stream",
     "text": [
      "Discussion:\n",
      "User:hi\n",
      "('Bot: ', <Statement text:You are welcome.>)\n",
      "User:hello\n",
      "('Bot: ', <Statement text:I am good.>)\n",
      "User:u\n",
      "('Bot: ', <Statement text:You are welcome.>)\n",
      "User:too\n",
      "('Bot: ', <Statement text:what do you want to order>)\n"
     ]
    }
   ],
   "source": [
    "print('Discussion:')\n",
    "while True:\n",
    "    try:\n",
    "        x = raw_input(\"User:\");\n",
    "        response = bot.get_response(x.lower())\n",
    "        print('Bot: ', response)\n",
    "    except(KeyboardInterrupt, EOFError, SystemExit):\n",
    "        break"
   ]
  },
  {
   "cell_type": "code",
   "execution_count": null,
   "metadata": {
    "collapsed": true
   },
   "outputs": [],
   "source": []
  }
 ],
 "metadata": {
  "kernelspec": {
   "display_name": "Python [default]",
   "language": "python",
   "name": "python2"
  },
  "language_info": {
   "codemirror_mode": {
    "name": "ipython",
    "version": 2
   },
   "file_extension": ".py",
   "mimetype": "text/x-python",
   "name": "python",
   "nbconvert_exporter": "python",
   "pygments_lexer": "ipython2",
   "version": "2.7.13"
  }
 },
 "nbformat": 4,
 "nbformat_minor": 2
}
