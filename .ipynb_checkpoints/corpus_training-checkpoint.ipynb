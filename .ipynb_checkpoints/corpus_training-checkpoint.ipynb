{
 "cells": [
  {
   "cell_type": "code",
   "execution_count": 5,
   "metadata": {},
   "outputs": [
    {
     "name": "stdout",
     "output_type": "stream",
     "text": [
      "OS:  /Users/dilip/Desktop/Repos/ML+DL+AI - Data/chatterbot\n"
     ]
    }
   ],
   "source": [
    "import os\n",
    "import sys\n",
    "print 'OS: ', os.getcwd()\n",
    "#where chatterbot module is installed (find by running: pip instll chatterbot)\n",
    "sys.path.append('/Library/Python/2.7/site-packages/') "
   ]
  },
  {
   "cell_type": "code",
   "execution_count": 6,
   "metadata": {},
   "outputs": [
    {
     "name": "stdout",
     "output_type": "stream",
     "text": [
      "ai.yml Training: [####################] 100%\n",
      "botprofile.yml Training: [####################] 100%\n",
      "computers.yml Training: [####################] 100%\n",
      "conversations.yml Training: [####################] 100%\n",
      "drugs.yml Training: [####################] 100%\n",
      "emotion.yml Training: [####################] 100%\n",
      "food.yml Training: [####################] 100%\n",
      "gossip.yml Training: [####################] 100%\n",
      "greetings.yml Training: [####################] 100%\n",
      "history.yml Training: [####################] 100%\n",
      "humor.yml Training: [####################] 100%\n",
      "literature.yml Training: [####################] 100%\n",
      "money.yml Training: [####################] 100%\n",
      "movies.yml Training: [####################] 100%\n",
      "politics.yml Training: [####################] 100%\n",
      "psychology.yml Training: [####################] 100%\n",
      "science.yml Training: [####################] 100%\n",
      "sports.yml Training: [####################] 100%\n",
      "trivia.yml Training: [####################] 100%\n"
     ]
    }
   ],
   "source": [
    "from chatterbot import ChatBot\n",
    "from chatterbot.trainers import ChatterBotCorpusTrainer\n",
    "\n",
    "chatterbot = ChatBot(\n",
    "    \"Training Example\",\n",
    "    logic_adapters=[\n",
    "        {\n",
    "            \"import_path\": \"chatterbot.logic.BestMatch\",\n",
    "            \"statement_comparison_function\": \"chatterbot.comparisons.levenshtein_distance\",\n",
    "            \"response_selection_method\": \"chatterbot.response_selection.get_first_response\"\n",
    "        }\n",
    "    ])\n",
    "chatterbot.set_trainer(ChatterBotCorpusTrainer)\n",
    "\n",
    "chatterbot.train(\n",
    "    \"chatterbot.corpus.english\"\n",
    ")"
   ]
  },
  {
   "cell_type": "code",
   "execution_count": null,
   "metadata": {},
   "outputs": [
    {
     "name": "stdout",
     "output_type": "stream",
     "text": [
      "Discussion:\n",
      "User:hi\n",
      "('Bot: ', <Statement text:How are you doing?>)\n",
      "User:i am good\n",
      "('Bot: ', <Statement text:That's good.>)\n",
      "User:how are you\n",
      "('Bot: ', <Statement text:Who? Who is but a form following the function of what>)\n",
      "User:history\n",
      "('Bot: ', <Statement text:my favorite subject is chemistry>)\n",
      "User:super\n",
      "('Bot: ', <Statement text:Not much.>)\n",
      "User:2+2\n",
      "('Bot: ', <Statement text:h is to o as o is to v.>)\n",
      "User:who are you?\n",
      "('Bot: ', <Statement text:Who? Who is but a form following the function of what>)\n",
      "User:jump\n",
      "('Bot: ', <Statement text:It is a medicine.>)\n",
      "User:what is medicine?\n",
      "('Bot: ', <Statement text:Addition is being abnormally tolerant to and dependent on something that is psychologically or physically habit-forming>)\n",
      "User:got it\n",
      "('Bot: ', <Statement text:That is a hypothetical question>)\n"
     ]
    }
   ],
   "source": [
    "print('Discussion:')\n",
    "while True:\n",
    "    try:\n",
    "        x = raw_input(\"User:\");\n",
    "        response = chatterbot.get_response(x.lower())\n",
    "        print('Bot: ', response)\n",
    "        print('Bot text: ', response.text())\n",
    "    except(KeyboardInterrupt, EOFError, SystemExit):\n",
    "        break"
   ]
  },
  {
   "cell_type": "code",
   "execution_count": null,
   "metadata": {
    "collapsed": true
   },
   "outputs": [],
   "source": []
  }
 ],
 "metadata": {
  "kernelspec": {
   "display_name": "Python [conda root]",
   "language": "python",
   "name": "conda-root-py"
  },
  "language_info": {
   "codemirror_mode": {
    "name": "ipython",
    "version": 2
   },
   "file_extension": ".py",
   "mimetype": "text/x-python",
   "name": "python",
   "nbconvert_exporter": "python",
   "pygments_lexer": "ipython2",
   "version": "2.7.13"
  }
 },
 "nbformat": 4,
 "nbformat_minor": 2
}
